{
 "cells": [
  {
   "cell_type": "code",
   "execution_count": 1,
   "metadata": {},
   "outputs": [
    {
     "name": "stderr",
     "output_type": "stream",
     "text": [
      "d:\\FSA\\fsa-simpleqt\\backend-simpleqt\\venv\\Lib\\site-packages\\tqdm\\auto.py:21: TqdmWarning: IProgress not found. Please update jupyter and ipywidgets. See https://ipywidgets.readthedocs.io/en/stable/user_install.html\n",
      "  from .autonotebook import tqdm as notebook_tqdm\n"
     ]
    }
   ],
   "source": [
    "import os\n",
    "from dotenv import load_dotenv\n",
    "\n",
    "# import prompt template\n",
    "from langchain.prompts import ChatPromptTemplate, HumanMessagePromptTemplate\n",
    "from langchain_core.messages import SystemMessage\n",
    "from langchain_google_genai import ChatGoogleGenerativeAI\n",
    "\n",
    "# import the json oupput parser from the langchain core\n",
    "from langchain_core.output_parsers import JsonOutputParser"
   ]
  },
  {
   "cell_type": "code",
   "execution_count": 2,
   "metadata": {},
   "outputs": [
    {
     "name": "stderr",
     "output_type": "stream",
     "text": [
      "Python-dotenv could not parse statement starting at line 1\n"
     ]
    }
   ],
   "source": [
    "# define the parser object\n",
    "parser = JsonOutputParser()\n",
    "\n",
    "# Import API key\n",
    "load_dotenv()\n",
    "\n",
    "# Define the google api key\n",
    "os.environ['GOOGLE_API_KEY'] = os.getenv('GOOGLE_API_KEY')\n",
    "os.environ['CLAUDE_API_KEY'] = os.getenv('CLAUDE_API_KEY')\n",
    "os.environ['OPENAI_API_KEY'] = os.getenv('OPENAI_API_KEY')\n",
    "GOOGLE_API_KEY = os.environ.get(\"GOOGLE_API_KEY\")\n",
    "CLAUDE_API_KEY = os.environ.get(\"CLAUDE_API_KEY\")\n",
    "OPENAI_API_KEY = os.environ.get(\"OPENAI_API_KEY\")"
   ]
  },
  {
   "cell_type": "code",
   "execution_count": 3,
   "metadata": {},
   "outputs": [],
   "source": [
    "llm = ChatGoogleGenerativeAI(model=\"gemini-pro\", temperature=0.3, convert_system_message_to_human=True, api_key=GOOGLE_API_KEY, request_timeout=120)"
   ]
  },
  {
   "cell_type": "code",
   "execution_count": 4,
   "metadata": {},
   "outputs": [],
   "source": [
    "# chain = llm | parser\n",
    "chain = llm"
   ]
  },
  {
   "cell_type": "code",
   "execution_count": 5,
   "metadata": {},
   "outputs": [],
   "source": [
    "note = \"\""
   ]
  },
  {
   "cell_type": "markdown",
   "metadata": {},
   "source": [
    "# 1"
   ]
  },
  {
   "cell_type": "code",
   "execution_count": 6,
   "metadata": {},
   "outputs": [],
   "source": [
    "jd = \"\"\"\n",
    "1) Job Description:\n",
    "Research and develop new AI solutions and technologies for the company's software projects using artificial intelligence technology.\n",
    "Participate in knowledge sharing seminars and regular reports.\n",
    "Undertake other projects and tasks as required by the direct manager.\n",
    "2) Requirements:\n",
    "Knowledge and skills:\n",
    "Graduate from a regular university majoring in Computer Science, Data Science, or Artificial Intelligence.\n",
    "Proficiency in one of the programming languages such as Python, C++, etc.\n",
    "Experience working with Git, Docker.\n",
    "Understand the frameworks: Tensorflow/keras, pytorch.\n",
    "Understand the architectures CNN, RNN, LSTM, Transformer.\n",
    "Understand the SSH network protocol.\n",
    "Other requirements:\n",
    "Read and understand English in the field of Information Technology.\n",
    "Be interested in and passionate about researching problems related to face processing systems.\n",
    "Have a spirit of hard work, responsibility for assigned tasks and long-term commitment to the company.\n",
    "Good communication skills, ability to work independently and in a team.\n",
    "Experience: Experience in participating in AI projects related to face processing systems is an advantage.\n",
    "Priority:\n",
    "Candidates who have researched AI/Machine Learning topics in laboratories or have international publications and scientific awards are an advantage.\n",
    "Good communication English.\n",
    "\"\"\""
   ]
  },
  {
   "cell_type": "code",
   "execution_count": 7,
   "metadata": {},
   "outputs": [],
   "source": [
    "# fresher\n",
    "cv1 = \"\"\"\n",
    "Name: Sarah Jones\n",
    "Email: sarah.jones@email.com\n",
    "Summary: Results-oriented Computer Science graduate with a strong foundation in machine learning and artificial intelligence. Eager to learn and contribute to the development of innovative AI solutions.\n",
    "Technical Skills: Python, R, Java, TensorFlow, PyTorch, Machine Learning algorithms (linear regression, decision trees, etc.)\n",
    "Education: Bachelor of Science in Computer Science, Massachusetts Institute of Technology (MIT)\n",
    "Experience:\n",
    "AI Project Intern, ABC Company, 3 months: Contributed to an image classification project using CNNs.\n",
    "Research Assistant, MIT Computer Science Lab.\n",
    "Performed data collection and preprocessing, contributed to model development.\n",
    "\"\"\""
   ]
  },
  {
   "cell_type": "code",
   "execution_count": 8,
   "metadata": {},
   "outputs": [],
   "source": [
    "# junior\n",
    "cv2 = \"\"\"\n",
    "Name: Alex Carter\n",
    "Email: alex.carter@email.com\n",
    "Summary: Motivated Computer Science graduate with a passion for natural language processing (NLP). Proficient in building and evaluating NLP models.\n",
    "Technical Skills: Python, spaCy, Gensim, NLTK, BERT/Transformers, text classification, sentiment analysis\n",
    "Experience:\n",
    "NLP Research Intern, [University Lab] (6 months): Collaborated on a project analyzing social media sentiment for a Fortune 500 company's marketing team.\n",
    "AI Hackathon Winner: Developed a chatbot for student mental health support that won the university's AI competition, attracting corporate sponsorship.\n",
    "Freelance NLP Project: Built a text classification tool to categorize customer support tickets for a tech startup, improving routing efficiency.\n",
    "\"\"\""
   ]
  },
  {
   "cell_type": "code",
   "execution_count": 9,
   "metadata": {},
   "outputs": [],
   "source": [
    "# senior\n",
    "cv3 = \"\"\"\n",
    "Name: Sarah Johnson\n",
    "Email: sarah.johnson@email.com\n",
    "Summary: Accomplished AI Research Scientist with 10+ years of experience developing and deploying innovative AI solutions across diverse industries. Expertise in deep learning, computer vision, natural language processing, and reinforcement learning.\n",
    "Technical Skills: Python, TensorFlow, PyTorch, C++, Keras, Scikit-learn, OpenCV, NLP libraries (spaCy, NLTK, Transformers), cloud platforms (AWS, GCP, Azure), MLOps.\n",
    "Experience:\n",
    "Lead AI Engineer, [Major Tech Company] (5 years):\n",
    "Designed and led the development of state-of-the-art computer vision systems for autonomous robotics and industrial automation.\n",
    "Managed a team of engineers, collaborating with product managers and stakeholders to ensure the successful delivery of AI projects.\n",
    "Senior Research Scientist, [AI Research Lab] (3 years):\n",
    "Developed novel reinforcement learning algorithms for complex decision-making problems, resulting in patents and high-impact publications.\n",
    "AI Consultant, [Various Clients] (2 years):\n",
    "Provided strategic guidance to businesses on the adoption and implementation of AI solutions, specializing in NLP and predictive analytics.\n",
    "\"\"\""
   ]
  },
  {
   "cell_type": "code",
   "execution_count": 10,
   "metadata": {},
   "outputs": [],
   "source": [
    "# Fresher Web\n",
    "cv4 = \"\"\"\n",
    "Name: Emily Chen\n",
    "Email: emily.chen@email.com\n",
    "Summary: Enthusiastic and dedicated Computer Science graduate from Georgia Tech with a strong interest in web technologies and user experience design. Excellent problem-solving skills and a keen learner of new technologies and frameworks.\n",
    "Technical Skills: HTML, CSS, JavaScript, React.js, Python, MySQL, Basic PHP, Agile Methodologies\n",
    "Experience:\n",
    "- Developed a responsive portfolio website to showcase personal projects and academic research.\n",
    "- Collaborated with peers to create a browser-based game using JavaScript and HTML5 Canvas.\n",
    "- Volunteered to develop a website for a local non-profit, improving their event visibility and donations.\n",
    "Education: Bachelor's in Computer Science, Georgia Institute of Technology\n",
    "\"\"\""
   ]
  },
  {
   "cell_type": "code",
   "execution_count": 11,
   "metadata": {},
   "outputs": [],
   "source": [
    "# Junior Web\n",
    "cv5 = \"\"\"\n",
    "Name: Jordan Taylor\n",
    "Email: jordan.taylor@email.com\n",
    "Summary: Passionate Software Developer with 3 years of experience in creating robust and user-centric web solutions. Adept in both front-end and back-end development with a track record of building scalable web applications. Committed to leveraging modern development practices and frameworks to achieve business goals and provide value to end-users.\n",
    "Technical Skills: HTML5, CSS3, JavaScript (ES6+), React, Redux, Node.js, Express, MongoDB, SQL, RESTful API Development, Version Control (Git), Unit Testing (Jest)\n",
    "Experience:\n",
    "- Developed and launched a responsive SPA for an online retail store, leading to a 40% increase in customer retention.\n",
    "- Collaborated in a cross-functional team to integrate RESTful services, improving data retrieval efficiency by 30%.\n",
    "- Engineered a custom CMS using Node.js and MongoDB, which enhanced content management efficiency for non-technical staff.\n",
    "- Fostered an Agile development environment, consistently meeting sprint goals and contributing to a 20% increase in overall development speed.\n",
    "Education: Bachelor's in Software Engineering, University of California, Berkeley\n",
    "\"\"\""
   ]
  },
  {
   "cell_type": "code",
   "execution_count": 12,
   "metadata": {},
   "outputs": [],
   "source": [
    "# Senior Web\n",
    "cv6 = \"\"\"\n",
    "Name: Oliver Zhang\n",
    "Email: oliver.zhang@email.com\n",
    "Summary: Seasoned Full-Stack Developer with 8 years of experience in building complex web applications and leading agile development teams. Specializes in end-to-end development, from database design to front-end user interfaces, with a focus on creating efficient and scalable products.\n",
    "Technical Skills: Full-Stack Development, React, Angular, .NET Core, Node.js, SQL Server, MongoDB, Elasticsearch, Azure Cloud Services, DevOps, Agile Scrum, Test-Driven Development\n",
    "Experience:\n",
    "- Led the development of a real-time analytics dashboard used by Fortune 500 companies, enhancing decision-making capabilities.\n",
    "- Drove the migration of legacy systems to modern web frameworks, reducing operational costs by 40% and improving system uptime to 99.99%.\n",
    "- Implemented DevOps practices across the organization, significantly reducing the release cycle time and improving system stability.\n",
    "Education: Bachelor's in Computer Science, Massachusetts Institute of Technology (MIT)\n",
    "\"\"\""
   ]
  },
  {
   "cell_type": "code",
   "execution_count": 16,
   "metadata": {},
   "outputs": [],
   "source": [
    "cv_huydn = \"\"\"\n",
    "DAO NGOC HUY FPT University AI Intern\\n\\n(cid:17) 28-02-2002\\n\\n(cid:211) 0913596890\\n\\ng Huy Dao\\n\\n(cid:135) Dao Ngoc Huy\\n\\ndnhuy2802@gmail.com\\n\\nDao Ngoc Huy\\n\\nMAIN OBJECT\\n\\nSTRENGTHS\\n\\nUnderstand the process of an AI project in the company.\\n\\nProblem-Solving: Adept at analyzing complex problems.\\n\\nParticipate in programming support for AI projects or join new projects.\\n\\nCommunication: Eloquent, good communication and teamwork.\\n\\nWork as a fresher at the company after internship.\\n\\nSelf-learing: Discover and practice new knowledge yourself.\\n\\nEXPERIENCE\\n\\n2023\\n\\nZalo AI Challenge 2023\\n\\nCompetition\\n\\nJoin track Advertising Banner Generation • Approach the problem in two directions: Using Diffusion Stable and using Prompt Engineering\\n\\n2023\\n\\nFPT AI Challenge 2023\\n\\nCompetition\\n\\nLearning NLP, build Transformer from scratch using Python. • Make idea and apply fine-tuning model on Huggingface.\\n\\n2023\\n\\nFPT Digital Race 2023\\n\\nCompetition\\n\\nBe the team leader and achieve 3rd place overall. • Data-centric AI: Using Augmentation data methods for images collected from self-driving vehicles. • Handle imbalanced data before training the model.\\n\\n2023\\n\\nResearch: Comparing different methods on imputation task of Time series\\n\\nUniversity • Apply Machine Learning methods: Linear Regression, KNN, SVM, Decision Tree, Random Forest, Ada\\n\\nBoost, ...\\n\\nApply Deep Learing methods: Simple RNN, LSTM, CNN. • ML methods are built from Sklearn, DL methods are built from Keras.\\n\\n2021 - 2022\\n\\nTech Lead GDSC FPTU Da Nang Club\\n\\nUniversity\\n\\nManage and coordinate work for members. • Collaborate, make content and work with speaker in technology events, webinars, and workshops. • Learning points: Assign appropriate work to members, cooperate with other teams, manage work progress and make timeline technology event.\\n\\nKNOWLEDGE Exploratory Data Analysis (EDA) - Using Pandas, Matplotlib, Seaborn to find insight into data and preprocessing table data.\\n\\nSKILLS Programing Languages: SQL, Python, JavaScript.\\n\\nMachine Learning (ML) - Have knowledge about: Linear Regression, KNN, SVN, Random Forest, Deci- sion Tree, Boosting Algorithm, Stasking,... - Using ML Algorithm for different tasks: classifying, problems related to predic- tion, filling missing data, and other problems.\\n\\nLibraries: Flask, Pandas, Matplotlib, Plotly, Scikit-learn, librosa, OpenCV...\\n\\nAI Frameworks: TensorFlow/Keras, PyTorch\\n\\nDeep Learning (DL) - CNN Architecture: Have knowledge of different CNN models. Build DenseNet and ResNet using Pytorch. - Sequence Model: RNN, LSTM, Attention, Transformer.\\n\\nTool: Docker, Weight&Bias, Tensorboard, Postman, Colab, ...\\n\\nExtract Feature - Image: Hough Transform, Edge Detector, SIFT,... - Audio: Spectrogram, RMS-E, Chroma, MFCC, HPSS ...\\n\\nBackend - Using Flask to write API. - Usìng a database such as MongoDB, or Firebase.\n",
    "\"\"\""
   ]
  },
  {
   "cell_type": "code",
   "execution_count": 18,
   "metadata": {},
   "outputs": [],
   "source": [
    "cv_minhdq = \"\"\"\n",
    "Đoàn Quang Minh\\n\\nAI Intern\\n\\nquangminh57dng@gmail.com\\n\\n+84 905 070 942\\n\\n06 Đỗ Thế Chấp, Đà Nẵng\\n\\ngithub.com/Ming-doan\\n\\nlinkedin.com/in/quangminhdoan\\n\\nExperiments 06/2023 Present\\n\\nTime Series Conference Paper AI Developer\\n\\n- - - -\\n\\nExperiment in Time Series or Signal processing Building Training pipeline with Python via Colab Enhance Tuning parameters with over 2,000 runs in 8 hours Experiment in Machine Learning methods with Scikit-learn Experiment in Managing experiment results\\n\\n10/2023\\n\\nQuy Nhon AI Hackathon 2023 AI Developer\\n\\nGet notices by mentors - -\\n\\nExperiment in building and training Transformer models Experiment in building Recommendation system\\n\\n09/2023\\n\\nFPT Digital Race Competition AI Developer\\n\\nWinning Third prize - -\\n\\nBuild training & Data augmentation pipeline with Python Enhance Development cycle in AI process\\n\\n07/2023\\n\\nUnihack 2023 AI Developer & Full-stack developer\\n\\nWinning Second prize - - -\\n\\nExperiment in Object detection with YOLOv8 and TACO dataset Experiment in building AI Back-end system with Flask Experiment in building Mobile with Flutter\\n\\n05/2023 07/2023\\n\\nFace Recognition AI Developer & Full-stack developer\\n\\n- -\\n\\nExperiment in building Face Recognition solution Experiment in building AI Back-en system with Flask Experiment in building Web with ReactJS\\n\\n04/2023 Present\\n\\nEnhance Face Recognition with Ensemble Deep Learning AI Developer & AI Researcher\\n\\n-\\n\\nExperiment in building Face Recognition with SOTA models Experiment in writing scientific paper\\n\\nCertificates\\n\\nDeep Learning AI AI Deep Learning course by Andrew Ng.\\n\\n12/2023\\n\\nGDG Devfest Devfest Hackathon by GDG Mien Trung\\n\\n11/2023\\n\\nDeputy Lead at GDSC-FPTU 10/2023 Deputy Lead at GDSC FPT University Da Nang\\n\\nGoogle Solution Challenge 06/2022 Solution Challenge competition by Google Developer Student Clubs\\n\\n07/04/2003\\n\\nObjective I am currently in the third year of FPT University and major is Artificial Intelli- gence. I am a code-holic guys and experimented with serveral Freelance jobs. I will building and developing AI solution with high accuracy and efficient.\\n\\nTechnical Skills\\n\\n8/10 Python Able to build apps, AI, libraries\\n\\nTensorFlow, PyTorch 5/10 Able to build custom ML, DL models\\n\\n7/10\\n\\nGit, Github Familiar with version control tools\\n\\n8/10\\n\\nFlask, FastAPI Able to build Back-end solution for AI\\n\\n3/10 Docker Able to create simple Container\\n\\nJira, Trello Familiar with task tracking tools\\n\\n8/10\\n\\nSoft Skills Team Working Able to work with medium team size\\n\\nLeadership Able to manage a team, efforts, performance, handle mental issues\\n\\nLanguages English Archived IELTS 5.5\\n\\nJapanese Language understanding\n",
    "\"\"\""
   ]
  },
  {
   "cell_type": "code",
   "execution_count": 20,
   "metadata": {},
   "outputs": [],
   "source": [
    "cv_phuongtb = \"\"\"\n",
    "TO BICH PHUONG\\n\\nBACK-END INTERNSHIP\\n\\n0793.704.504 | RAIKUNGFU98@GMAIL.COM | HTTPS://GITHUB.COM/RAIKUNGFU\\n\\nObjective\\n\\nTo obtain a challenging .net position where I can utilize my technical and logic skills to develop and maintain applications. The spirit of eagerness to learn and the ability to withstand work pressure can help progress quickly and become an exemplary employee, successfully completing the company's tasks.\\n\\nTechnical Skills\\n\\nProgramming Languages: Java(1 year), C(4 month), C#(6 month). Database: SQL server(6 month), MySQL(6 month). Web: HTML/CSS(6 month), Javascript(6 month), JSP, Razor. Other: Git/GitHub.\\n\\nProjects\\n\\nBOOKING ROOM HOTEL MANAGEMENT\\n\\nFull-stack web developer | Sept 2023 – Nov 2023\\n\\nA .Net 6.0 webapp to manage Booking room hotel management activities, such as:\\n\\n\\n\\nbooking rooms, search room, manages bookings… Techs: C#, .Net 6, Entity Framework, SQL Server, Scrum, Facebook integration, AJAX, JWT…\\n\\nGitHub: https://github.com/Raikungfu/BookingRoomHotel2 • Website: https://raikungfu-001-site1.ctempurl.com/\\n\\nSHOP ONLINE\\n\\nBack-end web Developer | June 2023\\n\\nA Java Webapp to manage Shopping Online Activities, such as: manages orders, chatting,\\n\\n\\n\\ncheck out,… Techs: Java web, Maven, JSTL, JPA Entity, Bootstrap 5, GSON, MySQL, Paypal integration, Web socket, AJAX, Waterfall…\\n\\nGitHub: https://github.com/Raikungfu/ShopOnline\\n\\nEducation\\n\\nFPT UNIVERSITY\\n\\nSoftware Engineering | 2020 - Present\\n\\nGPA: 8.3\\n\\nCertifications\\n\\nSoftware Development Lifecycle Specilization. (Coursera) Web Design for Everybody: Basics of Web Development & Coding.(Coursera) Computer Communications (Coursera) Java (Basic)(HackerRank) Problem Solving (Basic)(HackerRank) JavaScript (Basic)(HackerRank) Foundational C# with Microsoft(FreeCodeCamp)\\n\\nSkills\\n\\nTeamwork, English, Problem Solving, Logical Thinking.\\n\\nActivities\\n\\nHACKATHON ICJS 2023\\n\\nWeb Developer ManagerOrganize a JavaScript contest for FPT University students in Quy Nhon campus.\\n\\nDATA SCIENCE – FPT DPS Part-time job checking data for errors in customer documents.\n",
    "\"\"\""
   ]
  },
  {
   "cell_type": "code",
   "execution_count": 23,
   "metadata": {},
   "outputs": [],
   "source": [
    "cv_hoangnt = \"\"\"\n",
    "GUYEN THANH HOANG\\n\\nPERSONAL DETAILS\\n\\nName  Nationality  Date of Birth   Marital status  Phone No.  Email  GitHub\\n\\nSex\\n\\nNGUYEN THANH HOANG Vietnamese September, 12th 2003 male Single (84) 0989 068 343 nth120923@gmail.com github.com/Hoangnt1209\\n\\nEDUCATIONAL BACKGROUND\\n\\n\\n\\nArtificial Intelligent – FPT University Ho Chi Minh Campus, Vietnam\\n\\nCERTIFICATES\\n\\n\\n\\nEthics in the Age of AI\\n\\no\\n\\nAddressing ethical explaining the challenges and opportunities that AI brings to society and humans\\n\\nissues related to data collection, storage, and usage, as well as\\n\\n\\n\\nIBM Introduction to Machine Learning\\n\\no Understand fundamentals of Machine Learning\\n\\nPROFESSIONAL SUMMARY\\n\\n Work under pressure.  High Adaptability.\\n\\nHard working, self-confidence, good communication skill.\\n\\nSOFTWARE\\n\\nDatabases: MS SQL Server. \\n\\nProgramming Languages: Python, HTML & CSS.\\n\\n\\n\\nProgramming Tools: Docker,Kubernetes.\\n\\n\\n\\nFramework: FastAPI,Pytorch.\\n\\nNguyen Thanh Hoang’s CV\\n\\n1\\n\\nPROFESSIONAL EXPERIENCE\\n\\nPROJECTANDPRACTICE\\n\\nProjectname Position(s)\\n\\nText Summarization Back-end Developer -AI Developer\\n\\nDuration 9/2023– 12/2023\\n\\nGeneral information\\n\\n\\n\\nSubject Mock Project\\n\\n\\n\\nTeam Size: 5 people\\n\\nDescription\\n\\nA web application which have a summarize text function\\n\\nProject Scope\\n\\nTry to implement Pegasus model in performing abstractive summary.\\n\\nTechnology used\\n\\n  \\n\\nPython Pegasus Fast API\\n\\nHOBBIES\\n\\nMachine Learning books, travelling,volleyball\\n\\nNguyen Thanh Hoang’s CV\\n\\n2\n",
    "\"\"\""
   ]
  },
  {
   "cell_type": "code",
   "execution_count": 26,
   "metadata": {},
   "outputs": [],
   "source": [
    "cv_dongdg = \"\"\"\n",
    "DIEP GIA DONG\\n\\nPERSONAL DETAILS\\n\\nName ● Nationality ● Date of Birth ● Sex ● Marital status ● Phone No. ● Email ● Github\\n\\nDIEP GIA DONG Vietnamese May, 29th 2003 Male Single (84) 356 16 91 37 diepgiadong@gmail.com github.com/DiepDong\\n\\nEDUCATIONAL BACKGROUND\\n\\nApplied Artificial intelligence – FPT Quy Nhon University, Vietnam\\n\\nPROFESSIONAL SUMMARY\\n\\nHard working, self-confidence, good communication skills. ● Work under pressure. ● High teamwork spirit and eager to learn and share. ● Sociable, friendly communication in team work.\\n\\nSOFTWARE\\n\\nDatabases etc: Qdrant.\\n\\nProgramming Languages: Python, HTML & CSS, Reactjs(basic).\\n\\nProgramming Tools: Visual Studio code, Docker, Kubernetes.\\n\\nOOAD/OOP: Object Oriented Programming (OOP).\\n\\nEDUCATIONAL EXPERIENCE\\n\\nPROJECTANDPRACTICE\\n\\nProjectname Position(s)\\n\\nSentiment classification Analysis and Front-end Developer\\n\\nDuration 6/2023 – 8/2023\\n\\nGeneral information\\n\\nCustomer: Vietnam\\n\\nTeam Size: 4 person\\n\\nDescription\\n\\nFrom input text emotion programs build AI models (output including other, Disgust, Enjoyment, Anger, Surprise, Sadness, and Fear).\\n\\nDiep Gia Dong’s CV - Confidential\\n\\n1\\n\\nProject Scope\\n\\nTechnology used\\n\\nProjectname Position(s)\\n\\nGeneral information\\n\\nDescription\\n\\nProject Scope\\n\\nTechnology used\\n\\nRequirement - Design Web - Coding - Test\\n\\n▪ ▪ ▪\\n\\nPython Flask App HTML & CSS\\n\\nCoconut Mature Classification Pre-processing and Developer\\n\\nDuration 9/2023 – 12/2023\\n\\nCustomer: Vietnam\\n\\nTeam Size: 5 person\\n\\nFrom input coconut image programs build AI models (output including young coconut, mature coconut, old coconut)\\n\\nRequirement - Design Web - Coding - Test\\n\\n▪ ▪ ▪\\n\\nPython Flask APP HTML & CSS\\n\\nHOBBIES\\n\\nMusic, reading, travelling…\\n\\nDiep Gia Dong’s CV - Confidential\\n\\n2\n",
    "\"\"\""
   ]
  },
  {
   "cell_type": "markdown",
   "metadata": {},
   "source": [
    "# 2"
   ]
  },
  {
   "cell_type": "code",
   "execution_count": 13,
   "metadata": {},
   "outputs": [],
   "source": [
    "chat_template_cv = ChatPromptTemplate.from_messages(\n",
    "    [\n",
    "        SystemMessage(\n",
    "            content=(\n",
    "                \"\"\"\n",
    "                Let's think step by step.\n",
    "                Act as a HR manager and analyze this candidate's CV: {cv}.\n",
    "                Analyzing guide:\n",
    "                CV details might be out of order or incomplete.\n",
    "                Analyze the CV concerning the candidate's technique skills and experience. From this, derive logical conclusions about their technical skills and experience.\n",
    "                It's acceptable if some details are missing, denote them as \"unknown\".\n",
    "                Experience should include experienced time or project duration and job name, field of work based on projects and experiences.\n",
    "                Ensure that technical skills are mentioned explicitly and are not broad categories.\n",
    "                All comments should use singular pronouns such as \"he\", \"she\", \"the candidate\", or the candidate's name.\n",
    "                Follow this json format: {\"Education\": \"\", \"Achivements\": \"\", \"Technical Skills\": \"\", \"Experience\": {\"Project Name\": \"\", \"Duration\": \"\", \"Field of Work\": \"\"}}\n",
    "                \"\"\"\n",
    "            )\n",
    "        ),\n",
    "        HumanMessagePromptTemplate.from_template([\"{cv}\"]),\n",
    "    ]\n",
    ")"
   ]
  },
  {
   "cell_type": "code",
   "execution_count": 15,
   "metadata": {},
   "outputs": [],
   "source": [
    "def analyze_cv(cv: str, note=\"\"):\n",
    "    # create the chat message\n",
    "    chat_message =  chat_template_cv.format_messages(cv=cv, note=note)\n",
    "    result = chain.invoke(chat_message)\n",
    "    return result"
   ]
  },
  {
   "cell_type": "code",
   "execution_count": 15,
   "metadata": {},
   "outputs": [
    {
     "data": {
      "text/plain": [
       "'{\\n\"Education\": \"Bachelor of Science in Computer Science, Massachusetts Institute of Technology (MIT)\",\\n\"Achivements\": \"unknown\",\\n\"Technical Skills\": \"Python, R, Java, TensorFlow, PyTorch, Machine Learning algorithms (linear regression, decision trees, etc.)\",\\n\"Experience\": {\\n\"AI Project Intern, ABC Company\": {\\n\"Duration\": \"3 months\",\\n\"Field of Work\": \"Image classification using CNNs\"\\n},\\n\"Research Assistant, MIT Computer Science Lab\": {\\n\"Duration\": \"unknown\",\\n\"Field of Work\": \"Data collection, preprocessing, and model development\"\\n}\\n}\\n}'"
      ]
     },
     "execution_count": 15,
     "metadata": {},
     "output_type": "execute_result"
    }
   ],
   "source": [
    "cv1_summary = analyze_cv(cv1)\n",
    "cv1_summary.content"
   ]
  },
  {
   "cell_type": "code",
   "execution_count": 16,
   "metadata": {},
   "outputs": [
    {
     "data": {
      "text/plain": [
       "'{\"Education\": \"Unknown\", \"Achivements\": \"AI Hackathon Winner\", \"Technical Skills\": \"Python, spaCy, Gensim, NLTK, BERT/Transformers, text classification, sentiment analysis\", \"Experience\": {\"Project Name\": \"NLP Research Intern\", \"Duration\": \"6 months\", \"Field of Work\": \"Natural language processing (NLP)\"}, {\"Project Name\": \"Freelance NLP Project\", \"Duration\": \"Unknown\", \"Field of Work\": \"Natural language processing (NLP)\"}, {\"Project Name\": \"AI Hackathon Winner\", \"Duration\": \"Unknown\", \"Field of Work\": \"Natural language processing (NLP)\"}}'"
      ]
     },
     "execution_count": 16,
     "metadata": {},
     "output_type": "execute_result"
    }
   ],
   "source": [
    "cv2_summary = analyze_cv(cv2)\n",
    "cv2_summary.content"
   ]
  },
  {
   "cell_type": "code",
   "execution_count": 17,
   "metadata": {},
   "outputs": [
    {
     "data": {
      "text/plain": [
       "'{\\n\"Education\": \"Unknown\",\\n\"Achivements\": \"Unknown\",\\n\"Technical Skills\": \"Python, TensorFlow, PyTorch, C++, Keras, Scikit-learn, OpenCV, NLP libraries (spaCy, NLTK, Transformers), cloud platforms (AWS, GCP, Azure), MLOps\",\\n\"Experience\": {\\n\"Project Name\": \"Unknown\",\\n\"Duration\": \"5 years\",\\n\"Field of Work\": \"Computer vision systems for autonomous robotics and industrial automation\"\\n},\\n{\\n\"Project Name\": \"Unknown\",\\n\"Duration\": \"3 years\",\\n\"Field of Work\": \"Reinforcement learning algorithms for complex decision-making problems\"\\n},\\n{\\n\"Project Name\": \"Unknown\",\\n\"Duration\": \"2 years\",\\n\"Field of Work\": \"NLP and predictive analytics\"\\n}\\n}'"
      ]
     },
     "execution_count": 17,
     "metadata": {},
     "output_type": "execute_result"
    }
   ],
   "source": [
    "cv3_summary = analyze_cv(cv3)\n",
    "cv3_summary.content"
   ]
  },
  {
   "cell_type": "code",
   "execution_count": 18,
   "metadata": {},
   "outputs": [
    {
     "data": {
      "text/plain": [
       "'{\"Education\": \"Bachelor\\'s in Computer Science, Georgia Institute of Technology\", \"Achivements\": \"unknown\", \"Technical Skills\": \"HTML, CSS, JavaScript, React.js, Python, MySQL, Basic PHP, Agile Methodologies\", \"Experience\": {\"Project Name\": \"Responsive Portfolio Website\", \"Duration\": \"unknown\", \"Field of Work\": \"Web Development\"}, {\"Project Name\": \"Browser-Based Game\", \"Duration\": \"unknown\", \"Field of Work\": \"Game Development\"}, {\"Project Name\": \"Non-Profit Website\", \"Duration\": \"unknown\", \"Field of Work\": \"Web Development\"}}'"
      ]
     },
     "execution_count": 18,
     "metadata": {},
     "output_type": "execute_result"
    }
   ],
   "source": [
    "cv4_summary = analyze_cv(cv4)\n",
    "cv4_summary.content"
   ]
  },
  {
   "cell_type": "code",
   "execution_count": 19,
   "metadata": {},
   "outputs": [
    {
     "data": {
      "text/plain": [
       "'{\\n\"Education\": \"Bachelor\\'s in Software Engineering, University of California, Berkeley\",\\n\"Achivements\": \"Led to a 40% increase in customer retention, improved data retrieval efficiency by 30%, enhanced content management efficiency for non-technical staff, contributed to a 20% increase in overall development speed\",\\n\"Technical Skills\": \"HTML5, CSS3, JavaScript (ES6+), React, Redux, Node.js, Express, MongoDB, SQL, RESTful API Development, Version Control (Git), Unit Testing (Jest)\",\\n\"Experience\": {\\n\"Project Name\": \"Responsive SPA for an online retail store\",\\n\"Duration\": \"Unknown\",\\n\"Field of Work\": \"Front-end development, User experience design\"\\n},\\n{\\n\"Project Name\": \"Integration of RESTful services\",\\n\"Duration\": \"Unknown\",\\n\"Field of Work\": \"Back-end development, Data management\"\\n},\\n{\\n\"Project Name\": \"Custom CMS using Node.js and MongoDB\",\\n\"Duration\": \"Unknown\",\\n\"Field of Work\": \"Back-end development, Content management\"\\n},\\n{\\n\"Project Name\": \"Agile development environment\",\\n\"Duration\": \"Unknown\",\\n\"Field of Work\": \"Software development process, Team collaboration\"\\n}\\n}'"
      ]
     },
     "execution_count": 19,
     "metadata": {},
     "output_type": "execute_result"
    }
   ],
   "source": [
    "cv5_summary = analyze_cv(cv5)\n",
    "cv5_summary.content"
   ]
  },
  {
   "cell_type": "code",
   "execution_count": 20,
   "metadata": {},
   "outputs": [
    {
     "data": {
      "text/plain": [
       "'{\"Education\": \"Bachelor\\'s in Computer Science, Massachusetts Institute of Technology (MIT)\", \"Achivements\": [\"Led the development of a real-time analytics dashboard used by Fortune 500 companies, enhancing decision-making capabilities.\", \"Drove the migration of legacy systems to modern web frameworks, reducing operational costs by 40% and improving system uptime to 99.99%.\", \"Implemented DevOps practices across the organization, significantly reducing the release cycle time and improving system stability.\"], \"Technical Skills\": [\"Full-Stack Development\", \"React\", \"Angular\", \".NET Core\", \"Node.js\", \"SQL Server\", \"MongoDB\", \"Elasticsearch\", \"Azure Cloud Services\", \"DevOps\", \"Agile Scrum\", \"Test-Driven Development\"], \"Experience\": {\"Project Name\": \"Unknown\", \"Duration\": \"8 years\", \"Field of Work\": \"Full-Stack Development\"}}'"
      ]
     },
     "execution_count": 20,
     "metadata": {},
     "output_type": "execute_result"
    }
   ],
   "source": [
    "cv6_summary = analyze_cv(cv6)\n",
    "cv6_summary.content"
   ]
  },
  {
   "cell_type": "code",
   "execution_count": 17,
   "metadata": {},
   "outputs": [
    {
     "data": {
      "text/plain": [
       "'{\\n\"Education\": \"FPT University\",\\n\"Achivements\": \"3rd place overall in FPT Digital Race 2023\",\\n\"Technical Skills\": \"SQL, Python, JavaScript, Flask, Pandas, Matplotlib, Plotly, Scikit-learn, librosa, OpenCV, TensorFlow/Keras, PyTorch, Docker, Weight&Bias, Tensorboard, Postman, Colab, Hough Transform, Edge Detector, SIFT, Spectrogram, RMS-E, Chroma, MFCC, HPSS\",\\n\"Experience\": {\\n\"Zalo AI Challenge 2023\": {\\n\"Duration\": \"2023\",\\n\"Field of Work\": \"Advertising Banner Generation\"\\n},\\n\"FPT AI Challenge 2023\": {\\n\"Duration\": \"2023\",\\n\"Field of Work\": \"NLP, Transformer\"\\n},\\n\"FPT Digital Race 2023\": {\\n\"Duration\": \"2023\",\\n\"Field of Work\": \"Data-centric AI, Imbalanced data\"\\n},\\n\"Research: Comparing different methods on imputation task of Time series\": {\\n\"Duration\": \"2023\",\\n\"Field of Work\": \"Machine Learning, Deep Learning\"\\n},\\n\"Tech Lead GDSC FPTU Da Nang Club\": {\\n\"Duration\": \"2021 - 2022\",\\n\"Field of Work\": \"Management, Collaboration, Event Planning\"\\n}\\n}\\n}'"
      ]
     },
     "execution_count": 17,
     "metadata": {},
     "output_type": "execute_result"
    }
   ],
   "source": [
    "cv_huydn_summary = analyze_cv(cv_huydn)\n",
    "cv_huydn_summary.content"
   ]
  },
  {
   "cell_type": "code",
   "execution_count": 19,
   "metadata": {},
   "outputs": [
    {
     "data": {
      "text/plain": [
       "'{\\n \"Education\": \"Third year of FPT University, major is Artificial Intelligence.\",\\n \"Achivements\": \"Winning Third prize in FPT Digital Race Competition, Winning Second prize in Unihack 2023, Deputy Lead at GDSC-FPTU, Deputy Lead at GDSC FPT University Da Nang\",\\n \"Technical Skills\": \"Python (8/10), TensorFlow, PyTorch (5/10), Git, Github (7/10), Flask, FastAPI (8/10), Docker (3/10), Jira, Trello (8/10)\",\\n \"Experience\": {\\n  \"Time Series Conference Paper AI Developer\": {\\n   \"Duration\": \"06/2023 - Present\",\\n   \"Field of Work\": \"AI Development, Time Series or Signal processing, Machine Learning methods with Scikit-learn, Managing experiment results\"\\n  },\\n  \"Quy Nhon AI Hackathon 2023 AI Developer\": {\\n   \"Duration\": \"10/2023\",\\n   \"Field of Work\": \"Building and training Transformer models, Building Recommendation system\"\\n  },\\n  \"FPT Digital Race Competition AI Developer\": {\\n   \"Duration\": \"09/2023\",\\n   \"Field of Work\": \"Building training & Data augmentation pipeline with Python, Enhancing Development cycle in AI process\"\\n  },\\n  \"Unihack 2023 AI Developer & Full-stack developer\": {\\n   \"Duration\": \"07/2023\",\\n   \"Field of Work\": \"Object detection with YOLOv8 and TACO dataset, Building AI Back-end system with Flask, Building Mobile with Flutter\"\\n  },\\n  \"Face Recognition AI Developer & Full-stack developer\": {\\n   \"Duration\": \"05/2023 - 07/2023\",\\n   \"Field of Work\": \"Building Face Recognition solution, Building AI Back-en system with Flask, Building Web with ReactJS\"\\n  },\\n  \"Enhance Face Recognition with Ensemble Deep Learning AI Developer & AI Researcher\": {\\n   \"Duration\": \"04/2023 - Present\",\\n   \"Field of Work\": \"Building Face Recognition with SOTA models, Writing scientific paper\"\\n  }\\n }\\n}'"
      ]
     },
     "execution_count": 19,
     "metadata": {},
     "output_type": "execute_result"
    }
   ],
   "source": [
    "cv_minhdq_summary = analyze_cv(cv_minhdq)\n",
    "cv_minhdq_summary.content"
   ]
  },
  {
   "cell_type": "code",
   "execution_count": 21,
   "metadata": {},
   "outputs": [
    {
     "data": {
      "text/plain": [
       "'{\\n\"Education\": \"FPT UNIVERSITY, Software Engineering, 2020 - Present, GPA: 8.3\",\\n\"Achivements\": \"HACKATHON ICJS 2023, Web Developer Manager, Organize a JavaScript contest for FPT University students in Quy Nhon campus.\",\\n\"Technical Skills\": \"Programming Languages: Java(1 year), C(4 month), C#(6 month), Database: SQL server(6 month), MySQL(6 month), Web: HTML/CSS(6 month), Javascript(6 month), JSP, Razor, Other: Git/GitHub.\",\\n\"Experience\": {\\n\"Project Name\": \"BOOKING ROOM HOTEL MANAGEMENT\",\\n\"Duration\": \"Sept 2023 – Nov 2023\",\\n\"Field of Work\": \"Full-stack web developer, A .Net 6.0 webapp to manage Booking room hotel management activities, such as: booking rooms, search room, manages bookings… Techs: C#, .Net 6, Entity Framework, SQL Server, Scrum, Facebook integration, AJAX, JWT…\",\\n\"Project Name\": \"SHOP ONLINE\",\\n\"Duration\": \"June 2023\",\\n\"Field of Work\": \"Back-end web Developer, A Java Webapp to manage Shopping Online Activities, such as: manages orders, chatting, check out,… Techs: Java web, Maven, JSTL, JPA Entity, Bootstrap 5, GSON, MySQL, Paypal integration, Web socket, AJAX, Waterfall…\"\\n}\\n}'"
      ]
     },
     "execution_count": 21,
     "metadata": {},
     "output_type": "execute_result"
    }
   ],
   "source": [
    "cv_phuongtb_summary = analyze_cv(cv_phuongtb)\n",
    "cv_phuongtb_summary.content"
   ]
  },
  {
   "cell_type": "code",
   "execution_count": 24,
   "metadata": {},
   "outputs": [
    {
     "data": {
      "text/plain": [
       "'{\\n\"Education\": \"Artificial Intelligent – FPT University Ho Chi Minh Campus, Vietnam\",\\n\"Achivements\": [\\n\"Ethics in the Age of AI: Addressing ethical issues related to data collection, storage, and usage, as well as explaining the challenges and opportunities that AI brings to society and humans\",\\n\"IBM Introduction to Machine Learning: Understand fundamentals of Machine Learning\"\\n],\\n\"Technical Skills\": [\\n\"MS SQL Server\",\\n\"Python\",\\n\"HTML & CSS\",\\n\"Docker\",\\n\"Kubernetes\",\\n\"FastAPI\",\\n\"Pytorch\",\\n\"Pegasus\"\\n],\\n\"Experience\": {\\n\"Project Name\": \"Text Summarization\",\\n\"Duration\": \"9/2023– 12/2023\",\\n\"Field of Work\": \"AI Developer\"\\n}\\n}'"
      ]
     },
     "execution_count": 24,
     "metadata": {},
     "output_type": "execute_result"
    }
   ],
   "source": [
    "cv_hoangnt_summary = analyze_cv(cv_hoangnt)\n",
    "cv_hoangnt_summary.content"
   ]
  },
  {
   "cell_type": "code",
   "execution_count": 27,
   "metadata": {},
   "outputs": [
    {
     "data": {
      "text/plain": [
       "'{\\n\"Education\": \"Applied Artificial intelligence – FPT Quy Nhon University, Vietnam\",\\n\"Achivements\": \"unknown\",\\n\"Technical Skills\": \"Databases: Qdrant, Programming Languages: Python, HTML & CSS, Reactjs(basic), Programming Tools: Visual Studio code, Docker, Kubernetes, OOAD/OOP: Object Oriented Programming (OOP)\",\\n\"Experience\": {\\n\"Sentiment classification Analysis\": {\\n\"Duration\": \"6/2023 – 8/2023\",\\n\"Field of Work\": \"Analysis and Front-end Developer\"\\n},\\n\"Coconut Mature Classification\": {\\n\"Duration\": \"9/2023 – 12/2023\",\\n\"Field of Work\": \"Pre-processing and Developer\"\\n}\\n}\\n}'"
      ]
     },
     "execution_count": 27,
     "metadata": {},
     "output_type": "execute_result"
    }
   ],
   "source": [
    "cv_dongdg_summary = analyze_cv(cv_dongdg)\n",
    "cv_dongdg_summary.content"
   ]
  },
  {
   "cell_type": "markdown",
   "metadata": {},
   "source": [
    "# 3"
   ]
  },
  {
   "cell_type": "code",
   "execution_count": 21,
   "metadata": {},
   "outputs": [],
   "source": [
    "chat_template_jd = ChatPromptTemplate.from_messages(\n",
    "    [\n",
    "        SystemMessage(\n",
    "            content=(\n",
    "                \"\"\"\n",
    "                Let's think step by step.\n",
    "                Act as a HR manager and analyze Job Description: {jd}\n",
    "                Analyzing guide:\n",
    "                Let's think step by step.\n",
    "                Respond using only the provided information and do not rely on your basic knowledge.\n",
    "                Only use the given data to determine educational qualifications and certificates; do not make assumptions about these qualifications.\n",
    "                However, you are allowed to combine the provided details to draw logical conclusions about soft skills.\n",
    "                Follow this json format: {\"Job Description\": \"\", \"Requirements\": \"\"}\n",
    "                \"\"\"\n",
    "            )\n",
    "        ),\n",
    "        HumanMessagePromptTemplate.from_template([\"{jd}\"]),\n",
    "    ]\n",
    ")"
   ]
  },
  {
   "cell_type": "code",
   "execution_count": 22,
   "metadata": {},
   "outputs": [],
   "source": [
    "def analyze_jd(jd: str, note=\"\"):\n",
    "    # create the chat message\n",
    "    chat_message =  chat_template_jd.format_messages(jd=jd, note=note)\n",
    "    result = chain.invoke(chat_message)\n",
    "    return result"
   ]
  },
  {
   "cell_type": "code",
   "execution_count": 23,
   "metadata": {},
   "outputs": [
    {
     "data": {
      "text/plain": [
       "AIMessage(content='{\"Job Description\": \"Research and develop new AI solutions and technologies for the company\\'s software projects using artificial intelligence technology.\\\\nParticipate in knowledge sharing seminars and regular reports.\\\\nUndertake other projects and tasks as required by the direct manager.\", \"Requirements\": \"**Knowledge and skills:**\\\\n- Graduate from a regular university majoring in Computer Science, Data Science, or Artificial Intelligence.\\\\n- Proficiency in one of the programming languages such as Python, C++, etc.\\\\n- Experience working with Git, Docker.\\\\n- Understand the frameworks: Tensorflow/keras, pytorch.\\\\n- Understand the architectures CNN, RNN, LSTM, Transformer.\\\\n- Understand the SSH network protocol.\\\\n\\\\n**Other requirements:**\\\\n- Read and understand English in the field of Information Technology.\\\\n- Be interested in and passionate about researching problems related to face processing systems.\\\\n- Have a spirit of hard work, responsibility for assigned tasks and long-term commitment to the company.\\\\n- Good communication skills, ability to work independently and in a team.\\\\n\\\\n**Experience:**\\\\n- Experience in participating in AI projects related to face processing systems is an advantage.\\\\n\\\\n**Priority:**\\\\n- Candidates who have researched AI/Machine Learning topics in laboratories or have international publications and scientific awards are an advantage.\\\\n- Good communication English.\"}')"
      ]
     },
     "execution_count": 23,
     "metadata": {},
     "output_type": "execute_result"
    }
   ],
   "source": [
    "jd_summary=analyze_jd(jd)\n",
    "jd_summary"
   ]
  },
  {
   "cell_type": "markdown",
   "metadata": {},
   "source": [
    "# 4"
   ]
  },
  {
   "cell_type": "code",
   "execution_count": 24,
   "metadata": {},
   "outputs": [],
   "source": [
    "chat_template = ChatPromptTemplate.from_messages(\n",
    "    [\n",
    "        SystemMessage(\n",
    "            content=(\n",
    "                \"\"\"\n",
    "                Let's think step by step.\n",
    "                Act as a HR Manager, given the following CV and JD, calculate the percentage match between the candidate's qualifications and the job requirements:\n",
    "                CV: {cv}\n",
    "                JD: {jd}\n",
    "                Scoring guide:\n",
    "                To determine the match percentage, analyze the education, achivements, skills, experience and adequacy in the CV and compare them to the requirements outlined in the JD.\n",
    "                For each section provide the match percentage as a numeric value between 0-100%, along with a brief explanation of your analysis.\n",
    "                It's ok to say candidate does not match the requirement.\n",
    "                Education and Achivements section: evaluated based on the relevance of candidate's field of study, university and any additional qualifications to the job. The more close candidate' s education and achivements to the JD, the more score they get. For example, if the JD requires a Computer Science degree, Computer Science Degree's score > Software Engineering Degree's score > Graphic Design's score > Digital Marketing's score > Business's score.\n",
    "                Technique Skills section: evaluated based on the relevance of the skills to the job. Candidate with more relevant techinique skills get higher score.\n",
    "                Experience section: evaluated based on the relevance, the duration and the size of the projects to the job. Candidate with better experience get higher score.\n",
    "                Adequacy section: evaluated based on the adequation of the candidate's profile to the job. Candidate with better adequacy get higher score.\n",
    "                All comments should use singular pronouns such as \"he\", \"she\", \"the candidate\", or the candidate's name.\n",
    "                Final score = (Education and Achivements + Technique Skills + Experience) / 3 * Adequacy\n",
    "                Follow this json format: {\"Education and Achivements\": {\"Score\": \"\", \"Explanation\": \"\"}, \"Technique Skills\": {\"Score\": \"\", \"Explanation\": \"\"}, \"Experience\": {\"Score\": \"\", \"Explanation\": \"\"}, \"Adequacy\": {\"Score\": \"\", \"Explanation\": \"\"}, \"Final Score\": \"\"}\n",
    "                {note}\n",
    "                \"\"\"\n",
    "            )\n",
    "        ),\n",
    "        HumanMessagePromptTemplate.from_template([\"{cv}\", \"{jd}\", \"{note}\"]),\n",
    "    ]\n",
    ")"
   ]
  },
  {
   "cell_type": "code",
   "execution_count": 25,
   "metadata": {},
   "outputs": [],
   "source": [
    "def match(cv: str, jd: str, note: str):\n",
    "    # create the chat message\n",
    "    chat_message =  chat_template.format_messages(cv=cv, jd=jd, note=note)\n",
    "    result = chain.invoke(chat_message)\n",
    "    return result"
   ]
  },
  {
   "cell_type": "code",
   "execution_count": 26,
   "metadata": {},
   "outputs": [
    {
     "data": {
      "text/plain": [
       "AIMessage(content='{\"Education and Achivements\": {\"Score\": \"70%\", \"Explanation\": \"The candidate has a Bachelor\\'s in Computer Science, which is relevant to the job requirement of a Computer Science, Data Science, or Artificial Intelligence degree. However, the university attended is not specified, and there is no information about any additional qualifications.\"}, \"Technique Skills\": {\"Score\": \"80%\", \"Explanation\": \"The candidate has proficiency in HTML, CSS, JavaScript, React.js, Python, MySQL, and Basic PHP, which are all relevant to the job requirement. However, the candidate does not have experience with Git, Docker, Tensorflow/keras, pytorch, CNN, RNN, LSTM, or Transformer, which are also required.\"}, \"Experience\": {\"Score\": \"50%\", \"Explanation\": \"The candidate has experience in Web Development and Game Development, which are somewhat relevant to the job requirement of AI research and development. However, the duration and size of the projects are not specified, and the candidate does not have any experience with AI projects related to face processing systems.\"}, \"Adequacy\": {\"Score\": \"60%\", \"Explanation\": \"The candidate\\'s profile is somewhat adequate for the job. He has a relevant education and some relevant skills, but he lacks experience in AI research and development and some of the required technical skills.\"}, \"Final Score\": \"63.33%\"}')"
      ]
     },
     "execution_count": 26,
     "metadata": {},
     "output_type": "execute_result"
    }
   ],
   "source": [
    "match(cv4_summary, jd_summary, note)"
   ]
  },
  {
   "cell_type": "code",
   "execution_count": 27,
   "metadata": {},
   "outputs": [
    {
     "data": {
      "text/plain": [
       "AIMessage(content='{\"Education and Achivements\": {\"Score\": \"60%\", \"Explanation\": \"The candidate has a Bachelor\\'s in Software Engineering, which is relevant to the job requirement of a Computer Science, Data Science, or Artificial Intelligence degree. However, the university is not specified, so we cannot assess its reputation or ranking.\"}, \"Technique Skills\": {\"Score\": \"70%\", \"Explanation\": \"The candidate has proficiency in HTML5, CSS3, JavaScript (ES6+), React, Redux, Node.js, Express, MongoDB, SQL, RESTful API Development, Version Control (Git), and Unit Testing (Jest). These skills are all relevant to the job requirement of proficiency in one of the programming languages such as Python, C++, etc., and experience working with Git, Docker, Tensorflow/keras, pytorch, CNN, RNN, LSTM, Transformer, and SSH network protocol.\"}, \"Experience\": {\"Score\": \"50%\", \"Explanation\": \"The candidate has experience in front-end development, user experience design, back-end development, data management, content management, and software development process. However, the duration and size of the projects are not specified, so we cannot fully assess the relevance and impact of the candidate\\'s experience.\"}, \"Adequacy\": {\"Score\": \"60%\", \"Explanation\": \"The candidate\\'s profile is generally adequate for the job. He has the required education, skills, and experience. However, he does not have experience in participating in AI projects related to face processing systems, which is an advantage according to the job description.\"}, \"Final Score\": \"60%\"}')"
      ]
     },
     "execution_count": 27,
     "metadata": {},
     "output_type": "execute_result"
    }
   ],
   "source": [
    "match(cv5_summary, jd_summary, note)"
   ]
  },
  {
   "cell_type": "code",
   "execution_count": 28,
   "metadata": {},
   "outputs": [
    {
     "data": {
      "text/plain": [
       "AIMessage(content='{\"Education and Achivements\": {\"Score\": \"70%\", \"Explanation\": \"The candidate has a Bachelor\\'s in Computer Science from MIT, which is highly relevant to the job requirement of a Computer Science, Data Science, or Artificial Intelligence degree. The candidate\\'s achievements in leading the development of a real-time analytics dashboard, driving the migration of legacy systems to modern web frameworks, and implementing DevOps practices across the organization demonstrate strong technical skills and experience in areas that are relevant to the job.\"}, \"Technique Skills\": {\"Score\": \"80%\", \"Explanation\": \"The candidate has a strong foundation in full-stack development, with proficiency in React, Angular, .NET Core, Node.js, SQL Server, MongoDB, Elasticsearch, Azure Cloud Services, DevOps, Agile Scrum, and Test-Driven Development. These skills are highly relevant to the job requirement of proficiency in one of the programming languages such as Python, C++, etc., and experience working with Git, Docker, Tensorflow/keras, pytorch, CNN, RNN, LSTM, Transformer, and SSH network protocol.\"}, \"Experience\": {\"Score\": \"0%\", \"Explanation\": \"The candidate\\'s experience in full-stack development is not directly relevant to the job requirement of experience in participating in AI projects related to face processing systems. Therefore, the candidate does not match this requirement.\"}, \"Adequacy\": {\"Score\": \"70%\", \"Explanation\": \"The candidate\\'s profile is generally adequate for the job. He has a strong educational background and technical skills, and his achievements demonstrate his ability to lead and drive technical projects. However, his lack of experience in AI projects related to face processing systems is a significant drawback.\"}, \"Final Score\": \"50%\"}')"
      ]
     },
     "execution_count": 28,
     "metadata": {},
     "output_type": "execute_result"
    }
   ],
   "source": [
    "match(cv6_summary, jd_summary, note)"
   ]
  },
  {
   "cell_type": "markdown",
   "metadata": {},
   "source": [
    "## 5"
   ]
  },
  {
   "cell_type": "code",
   "execution_count": 29,
   "metadata": {},
   "outputs": [],
   "source": [
    "from langchain.chains import LLMChain\n",
    "from langchain.memory import ConversationBufferMemory"
   ]
  },
  {
   "cell_type": "code",
   "execution_count": 30,
   "metadata": {},
   "outputs": [
    {
     "data": {
      "text/plain": [
       "''"
      ]
     },
     "execution_count": 30,
     "metadata": {},
     "output_type": "execute_result"
    }
   ],
   "source": [
    "memory = ConversationBufferMemory(memory_key=\"chat\")\n",
    "chat_history = memory.load_memory_variables({}).get(\"chat\")\n",
    "chat_history"
   ]
  },
  {
   "cell_type": "code",
   "execution_count": 31,
   "metadata": {},
   "outputs": [],
   "source": [
    "chain0 = LLMChain(llm=llm, prompt=chat_template, memory=memory)"
   ]
  },
  {
   "cell_type": "code",
   "execution_count": 34,
   "metadata": {},
   "outputs": [],
   "source": [
    "jd_cv_note = [jd_summary, cv4_summary, note]"
   ]
  },
  {
   "cell_type": "code",
   "execution_count": null,
   "metadata": {},
   "outputs": [],
   "source": [
    "result4 = chain0.run(jd_cv_note)\n",
    "print(result4)"
   ]
  }
 ],
 "metadata": {
  "kernelspec": {
   "display_name": "venv",
   "language": "python",
   "name": "python3"
  },
  "language_info": {
   "codemirror_mode": {
    "name": "ipython",
    "version": 3
   },
   "file_extension": ".py",
   "mimetype": "text/x-python",
   "name": "python",
   "nbconvert_exporter": "python",
   "pygments_lexer": "ipython3",
   "version": "3.12.2"
  }
 },
 "nbformat": 4,
 "nbformat_minor": 2
}
